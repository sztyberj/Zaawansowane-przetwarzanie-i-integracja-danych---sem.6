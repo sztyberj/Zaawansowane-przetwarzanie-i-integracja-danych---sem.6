{
  "nbformat": 4,
  "nbformat_minor": 0,
  "metadata": {
    "colab": {
      "name": "Zadanie2.ipynb",
      "provenance": [],
      "collapsed_sections": [],
      "authorship_tag": "ABX9TyOFWsK+XSWV5FNKYFA5t8O3",
      "include_colab_link": true
    },
    "kernelspec": {
      "name": "python3",
      "display_name": "Python 3"
    },
    "language_info": {
      "name": "python"
    }
  },
  "cells": [
    {
      "cell_type": "markdown",
      "metadata": {
        "id": "view-in-github",
        "colab_type": "text"
      },
      "source": [
        "<a href=\"https://colab.research.google.com/github/sztyberj/Zaawansowane-przetwarzanie-i-integracja-danych---sem.6/blob/main/Zadanie2.ipynb\" target=\"_parent\"><img src=\"https://colab.research.google.com/assets/colab-badge.svg\" alt=\"Open In Colab\"/></a>"
      ]
    },
    {
      "cell_type": "markdown",
      "source": [
        "#Zadanie 2\n",
        "Opracować eksperyment uczenia maszynowego dla regresji liniowej\n"
      ],
      "metadata": {
        "id": "w8HYxptIaog1"
      }
    },
    {
      "cell_type": "code",
      "execution_count": null,
      "metadata": {
        "id": "UPhF5StvYS3o"
      },
      "outputs": [],
      "source": [
        "#import libs\n",
        "import numpy as np\n",
        "import matplotlib.pyplot as plt\n",
        "import pandas as pd\n",
        "from sklearn.linear_model import LinearRegression "
      ]
    },
    {
      "cell_type": "code",
      "source": [
        "#Load data\n",
        "data = pd.read_csv('https://raw.githubusercontent.com/sztyberj/Zaawansowane-przetwarzanie-i-integracja-danych---sem.6/main/Data/HousingPrices-Amsterdam-August-2021.csv')\n",
        "data.head(5)"
      ],
      "metadata": {
        "colab": {
          "base_uri": "https://localhost:8080/",
          "height": 206
        },
        "id": "XFZfDPB5YhpA",
        "outputId": "778db191-57fb-4aa0-e5b4-7561fd3d359d"
      },
      "execution_count": null,
      "outputs": [
        {
          "output_type": "execute_result",
          "data": {
            "text/plain": [
              "   Unnamed: 0                                 Address      Zip      Price  \\\n",
              "0           1            Blasiusstraat 8 2, Amsterdam  1091 CR 685000.000   \n",
              "1           2  Kromme Leimuidenstraat 13 H, Amsterdam  1059 EL 475000.000   \n",
              "2           3              Zaaiersweg 11 A, Amsterdam  1097 SM 850000.000   \n",
              "3           4            Tenerifestraat 40, Amsterdam  1060 TH 580000.000   \n",
              "4           5              Winterjanpad 21, Amsterdam  1036 KN 720000.000   \n",
              "\n",
              "   Area  Room   Lon    Lat  \n",
              "0    64     3 4.908 52.356  \n",
              "1    60     3 4.850 52.349  \n",
              "2   109     4 4.945 52.344  \n",
              "3   128     6 4.790 52.344  \n",
              "4   138     5 4.903 52.411  "
            ],
            "text/html": [
              "\n",
              "  <div id=\"df-bfe937b0-7119-4491-8f37-8291eff4af3f\">\n",
              "    <div class=\"colab-df-container\">\n",
              "      <div>\n",
              "<style scoped>\n",
              "    .dataframe tbody tr th:only-of-type {\n",
              "        vertical-align: middle;\n",
              "    }\n",
              "\n",
              "    .dataframe tbody tr th {\n",
              "        vertical-align: top;\n",
              "    }\n",
              "\n",
              "    .dataframe thead th {\n",
              "        text-align: right;\n",
              "    }\n",
              "</style>\n",
              "<table border=\"1\" class=\"dataframe\">\n",
              "  <thead>\n",
              "    <tr style=\"text-align: right;\">\n",
              "      <th></th>\n",
              "      <th>Unnamed: 0</th>\n",
              "      <th>Address</th>\n",
              "      <th>Zip</th>\n",
              "      <th>Price</th>\n",
              "      <th>Area</th>\n",
              "      <th>Room</th>\n",
              "      <th>Lon</th>\n",
              "      <th>Lat</th>\n",
              "    </tr>\n",
              "  </thead>\n",
              "  <tbody>\n",
              "    <tr>\n",
              "      <th>0</th>\n",
              "      <td>1</td>\n",
              "      <td>Blasiusstraat 8 2, Amsterdam</td>\n",
              "      <td>1091 CR</td>\n",
              "      <td>685000.000</td>\n",
              "      <td>64</td>\n",
              "      <td>3</td>\n",
              "      <td>4.908</td>\n",
              "      <td>52.356</td>\n",
              "    </tr>\n",
              "    <tr>\n",
              "      <th>1</th>\n",
              "      <td>2</td>\n",
              "      <td>Kromme Leimuidenstraat 13 H, Amsterdam</td>\n",
              "      <td>1059 EL</td>\n",
              "      <td>475000.000</td>\n",
              "      <td>60</td>\n",
              "      <td>3</td>\n",
              "      <td>4.850</td>\n",
              "      <td>52.349</td>\n",
              "    </tr>\n",
              "    <tr>\n",
              "      <th>2</th>\n",
              "      <td>3</td>\n",
              "      <td>Zaaiersweg 11 A, Amsterdam</td>\n",
              "      <td>1097 SM</td>\n",
              "      <td>850000.000</td>\n",
              "      <td>109</td>\n",
              "      <td>4</td>\n",
              "      <td>4.945</td>\n",
              "      <td>52.344</td>\n",
              "    </tr>\n",
              "    <tr>\n",
              "      <th>3</th>\n",
              "      <td>4</td>\n",
              "      <td>Tenerifestraat 40, Amsterdam</td>\n",
              "      <td>1060 TH</td>\n",
              "      <td>580000.000</td>\n",
              "      <td>128</td>\n",
              "      <td>6</td>\n",
              "      <td>4.790</td>\n",
              "      <td>52.344</td>\n",
              "    </tr>\n",
              "    <tr>\n",
              "      <th>4</th>\n",
              "      <td>5</td>\n",
              "      <td>Winterjanpad 21, Amsterdam</td>\n",
              "      <td>1036 KN</td>\n",
              "      <td>720000.000</td>\n",
              "      <td>138</td>\n",
              "      <td>5</td>\n",
              "      <td>4.903</td>\n",
              "      <td>52.411</td>\n",
              "    </tr>\n",
              "  </tbody>\n",
              "</table>\n",
              "</div>\n",
              "      <button class=\"colab-df-convert\" onclick=\"convertToInteractive('df-bfe937b0-7119-4491-8f37-8291eff4af3f')\"\n",
              "              title=\"Convert this dataframe to an interactive table.\"\n",
              "              style=\"display:none;\">\n",
              "        \n",
              "  <svg xmlns=\"http://www.w3.org/2000/svg\" height=\"24px\"viewBox=\"0 0 24 24\"\n",
              "       width=\"24px\">\n",
              "    <path d=\"M0 0h24v24H0V0z\" fill=\"none\"/>\n",
              "    <path d=\"M18.56 5.44l.94 2.06.94-2.06 2.06-.94-2.06-.94-.94-2.06-.94 2.06-2.06.94zm-11 1L8.5 8.5l.94-2.06 2.06-.94-2.06-.94L8.5 2.5l-.94 2.06-2.06.94zm10 10l.94 2.06.94-2.06 2.06-.94-2.06-.94-.94-2.06-.94 2.06-2.06.94z\"/><path d=\"M17.41 7.96l-1.37-1.37c-.4-.4-.92-.59-1.43-.59-.52 0-1.04.2-1.43.59L10.3 9.45l-7.72 7.72c-.78.78-.78 2.05 0 2.83L4 21.41c.39.39.9.59 1.41.59.51 0 1.02-.2 1.41-.59l7.78-7.78 2.81-2.81c.8-.78.8-2.07 0-2.86zM5.41 20L4 18.59l7.72-7.72 1.47 1.35L5.41 20z\"/>\n",
              "  </svg>\n",
              "      </button>\n",
              "      \n",
              "  <style>\n",
              "    .colab-df-container {\n",
              "      display:flex;\n",
              "      flex-wrap:wrap;\n",
              "      gap: 12px;\n",
              "    }\n",
              "\n",
              "    .colab-df-convert {\n",
              "      background-color: #E8F0FE;\n",
              "      border: none;\n",
              "      border-radius: 50%;\n",
              "      cursor: pointer;\n",
              "      display: none;\n",
              "      fill: #1967D2;\n",
              "      height: 32px;\n",
              "      padding: 0 0 0 0;\n",
              "      width: 32px;\n",
              "    }\n",
              "\n",
              "    .colab-df-convert:hover {\n",
              "      background-color: #E2EBFA;\n",
              "      box-shadow: 0px 1px 2px rgba(60, 64, 67, 0.3), 0px 1px 3px 1px rgba(60, 64, 67, 0.15);\n",
              "      fill: #174EA6;\n",
              "    }\n",
              "\n",
              "    [theme=dark] .colab-df-convert {\n",
              "      background-color: #3B4455;\n",
              "      fill: #D2E3FC;\n",
              "    }\n",
              "\n",
              "    [theme=dark] .colab-df-convert:hover {\n",
              "      background-color: #434B5C;\n",
              "      box-shadow: 0px 1px 3px 1px rgba(0, 0, 0, 0.15);\n",
              "      filter: drop-shadow(0px 1px 2px rgba(0, 0, 0, 0.3));\n",
              "      fill: #FFFFFF;\n",
              "    }\n",
              "  </style>\n",
              "\n",
              "      <script>\n",
              "        const buttonEl =\n",
              "          document.querySelector('#df-bfe937b0-7119-4491-8f37-8291eff4af3f button.colab-df-convert');\n",
              "        buttonEl.style.display =\n",
              "          google.colab.kernel.accessAllowed ? 'block' : 'none';\n",
              "\n",
              "        async function convertToInteractive(key) {\n",
              "          const element = document.querySelector('#df-bfe937b0-7119-4491-8f37-8291eff4af3f');\n",
              "          const dataTable =\n",
              "            await google.colab.kernel.invokeFunction('convertToInteractive',\n",
              "                                                     [key], {});\n",
              "          if (!dataTable) return;\n",
              "\n",
              "          const docLinkHtml = 'Like what you see? Visit the ' +\n",
              "            '<a target=\"_blank\" href=https://colab.research.google.com/notebooks/data_table.ipynb>data table notebook</a>'\n",
              "            + ' to learn more about interactive tables.';\n",
              "          element.innerHTML = '';\n",
              "          dataTable['output_type'] = 'display_data';\n",
              "          await google.colab.output.renderOutput(dataTable, element);\n",
              "          const docLink = document.createElement('div');\n",
              "          docLink.innerHTML = docLinkHtml;\n",
              "          element.appendChild(docLink);\n",
              "        }\n",
              "      </script>\n",
              "    </div>\n",
              "  </div>\n",
              "  "
            ]
          },
          "metadata": {},
          "execution_count": 76
        }
      ]
    },
    {
      "cell_type": "code",
      "source": [
        "#Get info about dataset\n",
        "data.info()"
      ],
      "metadata": {
        "colab": {
          "base_uri": "https://localhost:8080/"
        },
        "id": "YVrSWMN1Ybw4",
        "outputId": "08012ca0-7269-42de-9ef8-47e93dfa9ae8"
      },
      "execution_count": null,
      "outputs": [
        {
          "output_type": "stream",
          "name": "stdout",
          "text": [
            "<class 'pandas.core.frame.DataFrame'>\n",
            "RangeIndex: 924 entries, 0 to 923\n",
            "Data columns (total 8 columns):\n",
            " #   Column      Non-Null Count  Dtype  \n",
            "---  ------      --------------  -----  \n",
            " 0   Unnamed: 0  924 non-null    int64  \n",
            " 1   Address     924 non-null    object \n",
            " 2   Zip         924 non-null    object \n",
            " 3   Price       920 non-null    float64\n",
            " 4   Area        924 non-null    int64  \n",
            " 5   Room        924 non-null    int64  \n",
            " 6   Lon         924 non-null    float64\n",
            " 7   Lat         924 non-null    float64\n",
            "dtypes: float64(3), int64(3), object(2)\n",
            "memory usage: 57.9+ KB\n"
          ]
        }
      ]
    },
    {
      "cell_type": "code",
      "source": [
        "#Rename column\n",
        "data['Unnamed: 0'].replace('Unndamed: 0', 'ID', inplace=True)"
      ],
      "metadata": {
        "id": "oV9mbuXRaOcJ"
      },
      "execution_count": null,
      "outputs": []
    },
    {
      "cell_type": "code",
      "source": [
        "#Get info about the most important data\n",
        "pd.set_option('display.float_format',  lambda x: '%.3f' % x)\n",
        "print(data.Price.describe(), data.Area.describe(), data.Room.describe())"
      ],
      "metadata": {
        "colab": {
          "base_uri": "https://localhost:8080/"
        },
        "id": "pmMQFVflYq0y",
        "outputId": "29e0d110-0d2b-4e02-9e0e-ee021146d046"
      },
      "execution_count": null,
      "outputs": [
        {
          "output_type": "stream",
          "name": "stdout",
          "text": [
            "count       920.000\n",
            "mean     622065.420\n",
            "std      538994.175\n",
            "min      175000.000\n",
            "25%      350000.000\n",
            "50%      467000.000\n",
            "75%      700000.000\n",
            "max     5950000.000\n",
            "Name: Price, dtype: float64 count   924.000\n",
            "mean     95.952\n",
            "std      57.447\n",
            "min      21.000\n",
            "25%      60.750\n",
            "50%      83.000\n",
            "75%     113.000\n",
            "max     623.000\n",
            "Name: Area, dtype: float64 count   924.000\n",
            "mean      3.571\n",
            "std       1.592\n",
            "min       1.000\n",
            "25%       3.000\n",
            "50%       3.000\n",
            "75%       4.000\n",
            "max      14.000\n",
            "Name: Room, dtype: float64\n"
          ]
        }
      ]
    },
    {
      "cell_type": "code",
      "source": [
        "#Drop NA values, reset index\n",
        "data.dropna(inplace = True)\n",
        "data = data.reset_index()"
      ],
      "metadata": {
        "id": "GbWNv2muPrLN"
      },
      "execution_count": null,
      "outputs": []
    },
    {
      "cell_type": "code",
      "source": [
        "#Create plot\n",
        "plt.figure(figsize=(7,5))\n",
        "plt.xlabel('Area [m^2]')\n",
        "plt.ylabel('Price [€]')\n",
        "plt.scatter(data.Area, data.Price, color='blue')"
      ],
      "metadata": {
        "colab": {
          "base_uri": "https://localhost:8080/",
          "height": 363
        },
        "id": "RonEow9yMgh4",
        "outputId": "898010bc-05e7-4d01-8988-48c8c95d911d"
      },
      "execution_count": null,
      "outputs": [
        {
          "output_type": "execute_result",
          "data": {
            "text/plain": [
              "<matplotlib.collections.PathCollection at 0x7f59c3650e90>"
            ]
          },
          "metadata": {},
          "execution_count": 81
        },
        {
          "output_type": "display_data",
          "data": {
            "text/plain": [
              "<Figure size 504x360 with 1 Axes>"
            ],
            "image/png": "[encoded data removed]"
          },
          "metadata": {
            "needs_background": "light"
          }
        }
      ]
    },
    {
      "cell_type": "code",
      "source": [
        "#Simple linear regression\n",
        "lr = LinearRegression()\n",
        "lr.fit(X = data.Area.values.reshape(-1,1), y = data.Price.values)\n",
        "\n",
        "price_pred = lr.predict(X = data.Area.values.reshape(-1, 1))\n",
        "\n",
        "plt.figure(figsize=(7, 5))\n",
        "plt.xlabel('Area [m^2]')\n",
        "plt.ylabel('Price [€]')\n",
        "\n",
        "plt.scatter(data.Area, data.Price, color='blue')\n",
        "plt.plot(data.Area, price_pred, color='green')\n",
        "\n"
      ],
      "metadata": {
        "colab": {
          "base_uri": "https://localhost:8080/",
          "height": 363
        },
        "id": "XfuvzJkRM5KZ",
        "outputId": "11c4ac9b-fb80-47c9-9a3b-cb3f4d186f4a"
      },
      "execution_count": null,
      "outputs": [
        {
          "output_type": "execute_result",
          "data": {
            "text/plain": [
              "[<matplotlib.lines.Line2D at 0x7f59c35cf490>]"
            ]
          },
          "metadata": {},
          "execution_count": 82
        },
        {
          "output_type": "display_data",
          "data": {
            "text/plain": [
              "<Figure size 504x360 with 1 Axes>"
            ],
            "image/png": "[encoded data removed]"
          },
          "metadata": {
            "needs_background": "light"
          }
        }
      ]
    },
    {
      "cell_type": "code",
      "source": [
        "#New area values\n",
        "new_area_val = np.array([50, 200, 400, 500])\n",
        "new_price_pred = lr.predict(new_area_val.reshape(-1,1))\n",
        "new_price_pred"
      ],
      "metadata": {
        "colab": {
          "base_uri": "https://localhost:8080/"
        },
        "id": "9UYSOETyUnON",
        "outputId": "428f128d-68bb-4816-b08e-50a3d29aa03e"
      },
      "execution_count": null,
      "outputs": [
        {
          "output_type": "execute_result",
          "data": {
            "text/plain": [
              "array([ 260966.17591107, 1448594.47077683, 3032098.86393117,\n",
              "       3823851.06050834])"
            ]
          },
          "metadata": {},
          "execution_count": 83
        }
      ]
    },
    {
      "cell_type": "code",
      "source": [
        "plt.figure(figsize=(7, 5))\n",
        "plt.xlabel('Area [m^2]')\n",
        "plt.ylabel('Price [€]')\n",
        "\n",
        "plt.scatter(data.Area, data.Price, color='blue')\n",
        "plt.plot(data.Area, price_pred, color='green')\n",
        "plt.scatter(new_area_val, new_price_pred, color='orange', s=40)"
      ],
      "metadata": {
        "colab": {
          "base_uri": "https://localhost:8080/",
          "height": 363
        },
        "id": "z6mBhGs0VIhG",
        "outputId": "05d77586-c443-4fd5-92a6-bec39f25accf"
      },
      "execution_count": null,
      "outputs": [
        {
          "output_type": "execute_result",
          "data": {
            "text/plain": [
              "<matplotlib.collections.PathCollection at 0x7f59c35bedd0>"
            ]
          },
          "metadata": {},
          "execution_count": 84
        },
        {
          "output_type": "display_data",
          "data": {
            "text/plain": [
              "<Figure size 504x360 with 1 Axes>"
            ],
            "image/png": "[encoded data removed]"
          },
          "metadata": {
            "needs_background": "light"
          }
        }
      ]
    }
  ]
}